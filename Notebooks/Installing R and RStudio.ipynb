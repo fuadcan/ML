{
 "cells": [
  {
   "cell_type": "markdown",
   "metadata": {},
   "source": [
    "R is open-source (which also means that it's free) and is a lightweight program. It is easy to download and easy to install. If you are using Windows or Mac, you can download R from CRAN website. If you are using Linux, we recommend you to follow other instructions than in CRAN:\n",
    "\n",
    "##### For Windows\n",
    "https://cran.r-project.org/bin/windows/base/\n",
    "\n",
    "##### For (Mac) OS X\n",
    "https://cran.r-project.org/bin/macosx/\n",
    "\n",
    "##### For Ubuntu\n",
    "Ubuntu 16.04\n",
    "\n",
    "https://www.digitalocean.com/community/tutorials/how-to-install-r-on-ubuntu-16-04-2\n",
    "\n",
    "Ubuntu 14.04\n",
    "\n",
    "https://www.digitalocean.com/community/tutorials/how-to-set-up-r-on-ubuntu-14-04\n",
    "\n",
    "Ubuntu in general:\n",
    "\n",
    "https://cran.r-project.org/bin/linux/ubuntu/README.html\n"
   ]
  },
  {
   "cell_type": "markdown",
   "metadata": {},
   "source": [
    "#### Installing RStudio\n",
    "\n",
    "RStudio is open source as well, but it has commercial extensions. The following official website of RStudio contains free installation files for all common operating systems:\n",
    "\n",
    "https://www.rstudio.com/products/rstudio/download/\n",
    "\n",
    "But if you are using Ubuntu, you _may also_ choose to install from Terminal. It requires adding a trusted repository and if you have followed the above instructions to install R on Ubuntu, you can just type in Terminal:\n",
    "\n",
    "`sudo apt-get install rstudio`\n"
   ]
  }
 ],
 "metadata": {
  "kernelspec": {
   "display_name": "R",
   "language": "R",
   "name": "ir"
  },
  "language_info": {
   "codemirror_mode": "r",
   "file_extension": ".r",
   "mimetype": "text/x-r-source",
   "name": "R",
   "pygments_lexer": "r",
   "version": "3.4.1"
  }
 },
 "nbformat": 4,
 "nbformat_minor": 2
}
