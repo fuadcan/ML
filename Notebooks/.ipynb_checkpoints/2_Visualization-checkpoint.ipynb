{
 "cells": [
  {
   "cell_type": "markdown",
   "metadata": {},
   "source": [
    "Visualization in R is easier than it is usually thought. The main logic is all the same; it is better to have the data in form of a data.frame object, otherwise it would be harder to add extra information.\n",
    "\n",
    "To begin with, we are going to import a sample data; Auto (in a data.frame form) from ISLR package which is used for educational purposes. We also create another version in matrix form to show the differences."
   ]
  },
  {
   "cell_type": "code",
   "execution_count": 1,
   "metadata": {},
   "outputs": [
    {
     "ename": "ERROR",
     "evalue": "Error in library(\"ISLR\"): there is no package called ‘ISLR’\n",
     "output_type": "error",
     "traceback": [
      "Error in library(\"ISLR\"): there is no package called ‘ISLR’\nTraceback:\n",
      "1. library(\"ISLR\")",
      "2. stop(txt, domain = NA)"
     ]
    }
   ],
   "source": [
    "library(\"ISLR\")\n",
    "# ?Auto # Information about the data\n",
    "\n",
    "auto_matrix <- data.matrix(Auto) # in matrix form\n",
    "# head(auto_matrix)\n",
    "\n",
    "head(Auto)"
   ]
  },
  {
   "cell_type": "markdown",
   "metadata": {},
   "source": [
    "### An Old Skool Way\n",
    "An _old skool_ method to plot is to pass x and y _separately_ into plot function. Notice after executing \"plot\" command, \"title\" command adds the title over the existing graph, not replotting anything.   "
   ]
  },
  {
   "cell_type": "code",
   "execution_count": 2,
   "metadata": {},
   "outputs": [
    {
     "ename": "ERROR",
     "evalue": "Error in plot(auto_matrix[, 5], auto_matrix[, 1], xlab = \"Weight\", ylab = \"Miles Per Galon\"): object 'auto_matrix' not found\n",
     "output_type": "error",
     "traceback": [
      "Error in plot(auto_matrix[, 5], auto_matrix[, 1], xlab = \"Weight\", ylab = \"Miles Per Galon\"): object 'auto_matrix' not found\nTraceback:\n",
      "1. plot(auto_matrix[, 5], auto_matrix[, 1], xlab = \"Weight\", ylab = \"Miles Per Galon\")"
     ]
    }
   ],
   "source": [
    "## 1 ##\n",
    "plot(auto_matrix[,5],auto_matrix[,1], xlab=\"Weight\", ylab= \"Miles Per Galon\")\n",
    "title(\"MPG vs Weight\")"
   ]
  },
  {
   "cell_type": "markdown",
   "metadata": {},
   "source": [
    "### R Friendly way\n",
    "However an _R friendly way_ to do this is to use ___y~x notation___ which is the same notation for __regressions, trees, SVM and various others__. This way of plotting is much easier with a data.frame: "
   ]
  },
  {
   "cell_type": "code",
   "execution_count": 3,
   "metadata": {},
   "outputs": [
    {
     "ename": "ERROR",
     "evalue": "Error in eval(m$data, eframe): object 'Auto' not found\n",
     "output_type": "error",
     "traceback": [
      "Error in eval(m$data, eframe): object 'Auto' not found\nTraceback:\n",
      "1. plot(mpg ~ weight, data = Auto)",
      "2. plot.formula(mpg ~ weight, data = Auto)",
      "3. eval(m$data, eframe)",
      "4. eval(m$data, eframe)"
     ]
    }
   ],
   "source": [
    "## 2 ##\n",
    "plot(mpg ~ weight,data=Auto)\n",
    "title(\"MPG vs Weight\")"
   ]
  },
  {
   "cell_type": "markdown",
   "metadata": {},
   "source": [
    "and the snytax is easier to keep in mind when adding line."
   ]
  },
  {
   "cell_type": "code",
   "execution_count": 4,
   "metadata": {},
   "outputs": [
    {
     "ename": "ERROR",
     "evalue": "Error in eval(m$data, eframe): object 'Auto' not found\n",
     "output_type": "error",
     "traceback": [
      "Error in eval(m$data, eframe): object 'Auto' not found\nTraceback:\n",
      "1. plot(mpg ~ weight, data = Auto, pch = 20, col = \"blue\")",
      "2. plot.formula(mpg ~ weight, data = Auto, pch = 20, col = \"blue\")",
      "3. eval(m$data, eframe)",
      "4. eval(m$data, eframe)"
     ]
    }
   ],
   "source": [
    "## 3 ##\n",
    "plot(mpg ~ weight,data=Auto,pch=20,col='blue')\n",
    "abline(lm(mpg~weight,data=Auto))\n",
    "title(\"MPG vs Weight\")"
   ]
  },
  {
   "cell_type": "code",
   "execution_count": null,
   "metadata": {},
   "outputs": [],
   "source": []
  },
  {
   "cell_type": "code",
   "execution_count": null,
   "metadata": {},
   "outputs": [],
   "source": []
  },
  {
   "cell_type": "code",
   "execution_count": null,
   "metadata": {},
   "outputs": [],
   "source": []
  }
 ],
 "metadata": {
  "kernelspec": {
   "display_name": "R",
   "language": "R",
   "name": "ir"
  },
  "language_info": {
   "codemirror_mode": "r",
   "file_extension": ".r",
   "mimetype": "text/x-r-source",
   "name": "R",
   "pygments_lexer": "r",
   "version": "3.4.1"
  }
 },
 "nbformat": 4,
 "nbformat_minor": 2
}
