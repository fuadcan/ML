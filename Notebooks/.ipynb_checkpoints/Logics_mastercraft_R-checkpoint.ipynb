{
 "cells": [
  {
   "cell_type": "markdown",
   "metadata": {},
   "source": [
    "R was created by Logic to extract information to pave out of the prison. But R was ugly, its voice was colorless and selfless, like Chaos. Logic crafted it after all. No one paid attention to it, many did not know its existance anyway. But some did see its secret beauty inside, its potential to help lost beings for survival in darkness of the prison. They sewed clothes to R, hid its defects with ornaments and named it RStudio. However voice of R was untouched.\n",
    "\n",
    "The following is the story of R from its own language."
   ]
  },
  {
   "cell_type": "code",
   "execution_count": null,
   "metadata": {},
   "outputs": [],
   "source": []
  }
 ],
 "metadata": {
  "kernelspec": {
   "display_name": "R",
   "language": "R",
   "name": "ir"
  },
  "language_info": {
   "codemirror_mode": "r",
   "file_extension": ".r",
   "mimetype": "text/x-r-source",
   "name": "R",
   "pygments_lexer": "r",
   "version": "3.4.1"
  }
 },
 "nbformat": 4,
 "nbformat_minor": 2
}
