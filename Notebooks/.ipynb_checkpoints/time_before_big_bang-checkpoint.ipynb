{
 "cells": [
  {
   "cell_type": "markdown",
   "metadata": {},
   "source": [
    "# Time Before the Big Bang\n",
    "\n",
    "We are now going back to time before the big bang. It is dark as nothing. Nothing is inbalance; Chaos. The only reality was also there as always is. Everything to be happened, to have happened, will be happened; everything is there in form of unity. No information to be extracted, neighter knowledge.\n",
    "\n",
    "Something happened at the end of the beginning, or the beginning of the end. Being realized existance; covered it with chaos, called ignorance. It was the earliest time when moment could have happened; took place. Ignorance summoned question of knowledge; knowledge summoned information.\n",
    "\n",
    "Much after the bang, lost beings invented math, prisoned themselves into it; not knowing self was not there at all. The quest to escape was given to Brain. Is there any other way out or are we inside anyway? This is none of our concern. This is the story of a Brain in a Math.\n"
   ]
  },
  {
   "cell_type": "markdown",
   "metadata": {},
   "source": [
    "## Escaping from Prison\n",
    "\n",
    "The Brain invented tools, many tools. It was receiving help from other but no one knew it. Their attempts to escape have failed countless times after when Brain came up with an idea, something blinks after a momentary lapse. It would call one of beings' earliest invention, Logic; an old friend of Math. It was not a brilliant idea, two friends were made with ignorance and their substance was sacred. But this was an idea, something blinks after a momentary lapse.   "
   ]
  },
  {
   "cell_type": "markdown",
   "metadata": {},
   "source": []
  }
 ],
 "metadata": {
  "kernelspec": {
   "display_name": "R",
   "language": "R",
   "name": "ir"
  },
  "language_info": {
   "codemirror_mode": "r",
   "file_extension": ".r",
   "mimetype": "text/x-r-source",
   "name": "R",
   "pygments_lexer": "r",
   "version": "3.4.1"
  }
 },
 "nbformat": 4,
 "nbformat_minor": 2
}
