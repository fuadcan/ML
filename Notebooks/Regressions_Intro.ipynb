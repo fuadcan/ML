{
 "cells": [
  {
   "cell_type": "markdown",
   "metadata": {},
   "source": [
    "Different than statistics that is a discipline aiming to theorize true relationship between variables, ML focuses on pragmatically working models. Hence it bypasses many theory of statistics and starts with regressions instead.\n",
    "\n",
    "Regressions for ML purpose, of course, satisfy certain conditions but they are not as strict as statistics since ML leans over bigger data. In particular large sample theory implies when the number of observation inceases over a level, the obstacle against some assumptions of regressions ceases."
   ]
  },
  {
   "cell_type": "code",
   "execution_count": null,
   "metadata": {},
   "outputs": [],
   "source": []
  }
 ],
 "metadata": {
  "kernelspec": {
   "display_name": "R",
   "language": "R",
   "name": "ir"
  },
  "language_info": {
   "codemirror_mode": "r",
   "file_extension": ".r",
   "mimetype": "text/x-r-source",
   "name": "R",
   "pygments_lexer": "r",
   "version": "3.4.1"
  }
 },
 "nbformat": 4,
 "nbformat_minor": 2
}
